{
  "nbformat": 4,
  "nbformat_minor": 0,
  "metadata": {
    "colab": {
      "name": "PerlModeInstallTest.ipynb",
      "provenance": [],
      "collapsed_sections": [],
      "authorship_tag": "ABX9TyMpCj3NNoxBZeoii6PDXChh",
      "include_colab_link": true
    },
    "kernelspec": {
      "name": "python3",
      "display_name": "Python 3"
    },
    "language_info": {
      "name": "python"
    }
  },
  "cells": [
    {
      "cell_type": "markdown",
      "metadata": {
        "id": "view-in-github",
        "colab_type": "text"
      },
      "source": [
        "<a href=\"https://colab.research.google.com/github/muenalan/R/blob/master/PerlModeInstallTest.ipynb\" target=\"_parent\"><img src=\"https://colab.research.google.com/assets/colab-badge.svg\" alt=\"Open In Colab\"/></a>"
      ]
    },
    {
      "cell_type": "code",
      "execution_count": null,
      "metadata": {
        "colab": {
          "base_uri": "https://localhost:8080/"
        },
        "id": "IseKrBALrHE_",
        "outputId": "4e357d02-917c-4a77-aad4-2197459df2f3"
      },
      "outputs": [
        {
          "output_type": "stream",
          "name": "stdout",
          "text": [
            "Hash:\n"
          ]
        },
        {
          "output_type": "stream",
          "name": "stderr",
          "text": [
            "{ Alpha => 1 }\n",
            "bless({ name => \"MU\" }, \"main::Person\")\n"
          ]
        }
      ],
      "source": [
        "%%script perl\n",
        "\n",
        "use Data::Dump qw(pp);\n",
        "\n",
        "use IO::Extended qw(:all);\n",
        "\n",
        "use Class::Maker qw(:all);\n",
        "\n",
        "ln \"Hash:\";\n",
        "\n",
        "pp( { \"Alpha\" => 1 } );\n",
        "\n",
        "class 'Person', {\n",
        "\n",
        " public => {\n",
        "\n",
        "   string => [qw(name)]\n",
        "\n",
        " }\n",
        "\n",
        "};\n",
        "\n",
        "my $p = Person->new( name => 'MU' );\n",
        "\n",
        "pp $p;"
      ]
    },
    {
      "cell_type": "code",
      "source": [
        "\n",
        "%%bash\n",
        "\n",
        "node <<UNTIL_HERE\n",
        "\n",
        "var a = { alpha : 123 };\n",
        "\n",
        "console.log( \"Output: \");\n",
        "\n",
        "console.log( JSON.stringify(a, null, 2 ) );\n",
        "\n",
        "UNTIL_HERE\n",
        "\n"
      ],
      "metadata": {
        "colab": {
          "base_uri": "https://localhost:8080/"
        },
        "id": "Us7ay6uRERs4",
        "outputId": "8aefb83f-fcda-4dd5-845f-91f0d9f59f13"
      },
      "execution_count": 11,
      "outputs": [
        {
          "output_type": "stream",
          "name": "stdout",
          "text": [
            "Output: \n",
            "{\n",
            "  \"alpha\": 123\n",
            "}\n"
          ]
        }
      ]
    },
    {
      "cell_type": "code",
      "source": [
        "%%bash\n",
        "\n",
        "ls sample_data\n",
        "cat sample_data/anscombe.json"
      ],
      "metadata": {
        "id": "uVSVz9zntgys",
        "outputId": "6f31cda4-0617-47a9-f148-ec44cb38018a",
        "colab": {
          "base_uri": "https://localhost:8080/"
        }
      },
      "execution_count": null,
      "outputs": [
        {
          "output_type": "stream",
          "name": "stdout",
          "text": [
            "anscombe.json\n",
            "california_housing_test.csv\n",
            "california_housing_train.csv\n",
            "mnist_test.csv\n",
            "mnist_train_small.csv\n",
            "README.md\n",
            "[\n",
            "  {\"Series\":\"I\", \"X\":10.0, \"Y\":8.04},\n",
            "  {\"Series\":\"I\", \"X\":8.0, \"Y\":6.95},\n",
            "  {\"Series\":\"I\", \"X\":13.0, \"Y\":7.58},\n",
            "  {\"Series\":\"I\", \"X\":9.0, \"Y\":8.81},\n",
            "  {\"Series\":\"I\", \"X\":11.0, \"Y\":8.33},\n",
            "  {\"Series\":\"I\", \"X\":14.0, \"Y\":9.96},\n",
            "  {\"Series\":\"I\", \"X\":6.0, \"Y\":7.24},\n",
            "  {\"Series\":\"I\", \"X\":4.0, \"Y\":4.26},\n",
            "  {\"Series\":\"I\", \"X\":12.0, \"Y\":10.84},\n",
            "  {\"Series\":\"I\", \"X\":7.0, \"Y\":4.81},\n",
            "  {\"Series\":\"I\", \"X\":5.0, \"Y\":5.68},\n",
            "\n",
            "  {\"Series\":\"II\", \"X\":10.0, \"Y\":9.14},\n",
            "  {\"Series\":\"II\", \"X\":8.0, \"Y\":8.14},\n",
            "  {\"Series\":\"II\", \"X\":13.0, \"Y\":8.74},\n",
            "  {\"Series\":\"II\", \"X\":9.0, \"Y\":8.77},\n",
            "  {\"Series\":\"II\", \"X\":11.0, \"Y\":9.26},\n",
            "  {\"Series\":\"II\", \"X\":14.0, \"Y\":8.10},\n",
            "  {\"Series\":\"II\", \"X\":6.0, \"Y\":6.13},\n",
            "  {\"Series\":\"II\", \"X\":4.0, \"Y\":3.10},\n",
            "  {\"Series\":\"II\", \"X\":12.0, \"Y\":9.13},\n",
            "  {\"Series\":\"II\", \"X\":7.0, \"Y\":7.26},\n",
            "  {\"Series\":\"II\", \"X\":5.0, \"Y\":4.74},\n",
            "\n",
            "  {\"Series\":\"III\", \"X\":10.0, \"Y\":7.46},\n",
            "  {\"Series\":\"III\", \"X\":8.0, \"Y\":6.77},\n",
            "  {\"Series\":\"III\", \"X\":13.0, \"Y\":12.74},\n",
            "  {\"Series\":\"III\", \"X\":9.0, \"Y\":7.11},\n",
            "  {\"Series\":\"III\", \"X\":11.0, \"Y\":7.81},\n",
            "  {\"Series\":\"III\", \"X\":14.0, \"Y\":8.84},\n",
            "  {\"Series\":\"III\", \"X\":6.0, \"Y\":6.08},\n",
            "  {\"Series\":\"III\", \"X\":4.0, \"Y\":5.39},\n",
            "  {\"Series\":\"III\", \"X\":12.0, \"Y\":8.15},\n",
            "  {\"Series\":\"III\", \"X\":7.0, \"Y\":6.42},\n",
            "  {\"Series\":\"III\", \"X\":5.0, \"Y\":5.73},\n",
            "\n",
            "  {\"Series\":\"IV\", \"X\":8.0, \"Y\":6.58},\n",
            "  {\"Series\":\"IV\", \"X\":8.0, \"Y\":5.76},\n",
            "  {\"Series\":\"IV\", \"X\":8.0, \"Y\":7.71},\n",
            "  {\"Series\":\"IV\", \"X\":8.0, \"Y\":8.84},\n",
            "  {\"Series\":\"IV\", \"X\":8.0, \"Y\":8.47},\n",
            "  {\"Series\":\"IV\", \"X\":8.0, \"Y\":7.04},\n",
            "  {\"Series\":\"IV\", \"X\":8.0, \"Y\":5.25},\n",
            "  {\"Series\":\"IV\", \"X\":19.0, \"Y\":12.50},\n",
            "  {\"Series\":\"IV\", \"X\":8.0, \"Y\":5.56},\n",
            "  {\"Series\":\"IV\", \"X\":8.0, \"Y\":7.91},\n",
            "  {\"Series\":\"IV\", \"X\":8.0, \"Y\":6.89}\n",
            "]\n"
          ]
        }
      ]
    },
    {
      "cell_type": "markdown",
      "source": [
        "# New Section"
      ],
      "metadata": {
        "id": "F9KZvPd7sy6i"
      }
    },
    {
      "cell_type": "code",
      "source": [
        "%%bash\n",
        "\n",
        "cpan install Data::Dump IO::Extended Class::Maker"
      ],
      "metadata": {
        "colab": {
          "base_uri": "https://localhost:8080/"
        },
        "id": "kMnPOpHcr1-5",
        "outputId": "76839358-62ab-4087-9582-636e39ffa1e3"
      },
      "execution_count": null,
      "outputs": [
        {
          "output_type": "stream",
          "name": "stdout",
          "text": [
            "Reading '/root/.cpan/Metadata'\n",
            "  Database was generated on Fri, 29 Apr 2022 07:17:03 GMT\n",
            "Data::Dump is up to date (1.25).\n",
            "IO::Extended is up to date (1.0).\n",
            "Running install for module 'Class::Maker'\n",
            "Fetching with HTTP::Tiny:\n",
            "http://www.cpan.org/authors/id/M/MU/MUENALAN/Class-Maker-0.5.14.tar.gz\n",
            "Checksum for /root/.cpan/sources/authors/id/M/MU/MUENALAN/Class-Maker-0.5.14.tar.gz ok\n",
            "'YAML' not installed, will not store persistent state\n",
            "Configuring M/MU/MUENALAN/Class-Maker-0.5.14.tar.gz with Makefile.PL\n",
            "Checking if your kit is complete...\n",
            "Looks good\n",
            "Generating a Unix-style Makefile\n",
            "Writing Makefile for Class::Maker\n",
            "Writing MYMETA.yml and MYMETA.json\n",
            "  MUENALAN/Class-Maker-0.5.14.tar.gz\n",
            "  /usr/bin/perl Makefile.PL INSTALLDIRS=site -- OK\n",
            "Running make for M/MU/MUENALAN/Class-Maker-0.5.14.tar.gz\n",
            "cp Maker/Exception.pm blib/lib/Class/Maker/Exception.pm\n",
            "cp Maker/Basic/Types.pm blib/lib/Class/Maker/Basic/Types.pm\n",
            "cp Maker.pm blib/lib/Class/Maker.pm\n",
            "cp Maker/Schema.pm blib/lib/Class/Maker/Schema.pm\n",
            "cp Maker/Basic/Fields.pm blib/lib/Class/Maker/Basic/Fields.pm\n",
            "cp Maker/Basic/Constructor.pm blib/lib/Class/Maker/Basic/Constructor.pm\n",
            "cp Maker/Basic/Handler/Attributes.pm blib/lib/Class/Maker/Basic/Handler/Attributes.pm\n",
            "cp Maker/Basic/Reflection.pm blib/lib/Class/Maker/Basic/Reflection.pm\n",
            "cp classwalker.pl blib/lib/Class/classwalker.pl\n",
            "Manifying 6 pod documents\n",
            "  MUENALAN/Class-Maker-0.5.14.tar.gz\n",
            "  /usr/bin/make -- OK\n",
            "Running make test\n",
            "PERL_DL_NONLAZY=1 \"/usr/bin/perl\" \"-Iblib/lib\" \"-Iblib/arch\" test.pl\n",
            "1..1\n",
            "# Running under perl version 5.026001 for linux\n",
            "# Current time local: Fri Apr 29 09:40:08 2022\n",
            "# Current time GMT:   Fri Apr 29 09:40:08 2022\n",
            "# Using Test.pm version 1.30\n",
            "ok 1\n",
            "FIRST: \n",
            "$VAR1 = [\n",
            "          bless( {\n",
            "                   'four' => 4,\n",
            "                   'two' => 2,\n",
            "                   'one' => 1,\n",
            "                   'three' => 3\n",
            "                 }, 'main::TestMe' ),\n",
            "          bless( {\n",
            "                   'three' => 3,\n",
            "                   'one' => 1,\n",
            "                   'four' => 4,\n",
            "                   'two' => '666'\n",
            "                 }, 'main::TestMe' )\n",
            "        ];\n",
            "$VAR1 = bless( {\n",
            "                 'desc' => 'Database Administrator',\n",
            "                 'name' => 'dba'\n",
            "               }, 'Human::Role' );\n",
            "$VAR1 = [\n",
            "          bless( {\n",
            "                   'original' => 'v5.26.1',\n",
            "                   'version' => [\n",
            "                                  5,\n",
            "                                  26,\n",
            "                                  1\n",
            "                                ],\n",
            "                   'qv' => 1\n",
            "                 }, 'version' ),\n",
            "          bless( {\n",
            "                   'desc' => 'Database Administrator',\n",
            "                   'name' => 'dba'\n",
            "                 }, 'Human::Role' ),\n",
            "          bless( {\n",
            "                   'name' => 'dba',\n",
            "                   'desc' => 'Role Descrition'\n",
            "                 }, 'Human::Role' ),\n",
            "          bless( {\n",
            "                   'name' => 'admin'\n",
            "                 }, 'Human::Role::Simple' )\n",
            "        ];\n",
            "$VAR2 = $VAR1->[2];\n",
            "--------------------------------------------------------------------------------\n",
            "$VAR1 = 'Human::Role reflex';\n",
            "$VAR2 = bless( {\n",
            "                 'methods' => [\n",
            "                                'anew'\n",
            "                              ],\n",
            "                 'name' => 'Human::Role',\n",
            "                 'def' => {\n",
            "                            'public' => {\n",
            "                                          'string' => [\n",
            "                                                        'name',\n",
            "                                                        'desc',\n",
            "                                                        'purpose'\n",
            "                                                      ]\n",
            "                                        },\n",
            "                            'default' => {\n",
            "                                           'desc' => 'Role Descrition',\n",
            "                                           'name' => 'Role Name'\n",
            "                                         }\n",
            "                          }\n",
            "               }, 'Class::Maker::Reflex' );\n",
            "--------------------------------------------------------------------------------\n",
            "$VAR1 = 'Human::Role::Simple reflex';\n",
            "$VAR2 = bless( {\n",
            "                 'isa' => [\n",
            "                            'Human::Role'\n",
            "                          ],\n",
            "                 'parents' => {\n",
            "                                'Human::Role' => bless( {\n",
            "                                                          'isa' => [],\n",
            "                                                          'methods' => [\n",
            "                                                                         'anew'\n",
            "                                                                       ],\n",
            "                                                          'name' => 'Human::Role',\n",
            "                                                          'def' => {\n",
            "                                                                     'public' => {\n",
            "                                                                                   'string' => [\n",
            "                                                                                                 'name',\n",
            "                                                                                                 'desc',\n",
            "                                                                                                 'purpose'\n",
            "                                                                                               ]\n",
            "                                                                                 },\n",
            "                                                                     'default' => {\n",
            "                                                                                    'desc' => 'Role Descrition',\n",
            "                                                                                    'name' => 'Role Name'\n",
            "                                                                                  }\n",
            "                                                                   }\n",
            "                                                        }, 'Class::Maker::Reflex' )\n",
            "                              },\n",
            "                 'def' => undef,\n",
            "                 'name' => 'Human::Role::Simple',\n",
            "                 'methods' => [\n",
            "                                'new'\n",
            "                              ]\n",
            "               }, 'Class::Maker::Reflex' );\n",
            "$VAR1 = [\n",
            "          'Human::Role'\n",
            "        ];\n",
            "PERL_DL_NONLAZY=1 \"/usr/bin/perl\" \"-MExtUtils::Command::MM\" \"-MTest::Harness\" \"-e\" \"undef *Test::Harness::Switches; test_harness(0, 'blib/lib', 'blib/arch')\" t/*.t\n",
            "t/02_mi.t .. ok\n",
            "All tests successful.\n",
            "Files=1, Tests=1,  0 wallclock secs ( 0.02 usr  0.00 sys +  0.01 cusr  0.00 csys =  0.03 CPU)\n",
            "Result: PASS\n",
            "  MUENALAN/Class-Maker-0.5.14.tar.gz\n",
            "  /usr/bin/make test -- OK\n",
            "Running make install\n",
            "Manifying 6 pod documents\n",
            "Installing /usr/local/share/perl/5.26.1/Class/Maker.pm\n",
            "Installing /usr/local/share/perl/5.26.1/Class/classwalker.pl\n",
            "Installing /usr/local/share/perl/5.26.1/Class/Maker/Schema.pm\n",
            "Installing /usr/local/share/perl/5.26.1/Class/Maker/Exception.pm\n",
            "Installing /usr/local/share/perl/5.26.1/Class/Maker/Basic/Types.pm\n",
            "Installing /usr/local/share/perl/5.26.1/Class/Maker/Basic/Reflection.pm\n",
            "Installing /usr/local/share/perl/5.26.1/Class/Maker/Basic/Constructor.pm\n",
            "Installing /usr/local/share/perl/5.26.1/Class/Maker/Basic/Fields.pm\n",
            "Installing /usr/local/share/perl/5.26.1/Class/Maker/Basic/Handler/Attributes.pm\n",
            "Installing /usr/local/man/man3/Class::Maker.3pm\n",
            "Installing /usr/local/man/man3/Class::Maker::Exception.3pm\n",
            "Installing /usr/local/man/man3/Class::Maker::Schema.3pm\n",
            "Installing /usr/local/man/man3/Class::classwalker.3pm\n",
            "Installing /usr/local/man/man3/Class::Maker::Basic::Constructor.3pm\n",
            "Installing /usr/local/man/man3/Class::Maker::Basic::Reflection.3pm\n",
            "Appending installation info to /usr/local/lib/x86_64-linux-gnu/perl/5.26.1/perllocal.pod\n",
            "  MUENALAN/Class-Maker-0.5.14.tar.gz\n",
            "  /usr/bin/make install  -- OK\n"
          ]
        },
        {
          "output_type": "stream",
          "name": "stderr",
          "text": [
            "Loading internal null logger. Install Log::Log4perl for logging messages\n",
            "\tpredefined default desc = 'Role Descrition'\n",
            "\tpredefined default name = 'Role Name'\n"
          ]
        }
      ]
    }
  ]
}